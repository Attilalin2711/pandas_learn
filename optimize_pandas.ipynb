{
 "cells": [
  {
   "cell_type": "code",
   "execution_count": 1,
   "metadata": {
    "collapsed": true
   },
   "outputs": [
    {
     "data": {
      "text/plain": "      ean_hotel_id                                              name  \\\n0           269955                Hilton Garden Inn Albany/SUNY Area   \n1           113431              Courtyard by Marriott Albany Thruway   \n2           108151                             Radisson Hotel Albany   \n3           254756           Hilton Garden Inn Albany Medical Center   \n4           198232           CrestHill Suites SUNY University Albany   \n...            ...                                               ...   \n1626        324259          Residence Inn Yonkers Westchester County   \n1627        107949                                Ramada Inn Yonkers   \n1628        509723                      Hyatt Place New York/Yonkers   \n1629        621870        Hampton Inn & Suites Yonkers - Westchester   \n1630        683329  Courtyard by Marriott Yonkers Westchester County   \n\n                    address1     city state_province postal_code  latitude  \\\n0        1389 Washington Ave   Albany             NY       12206  42.68751   \n1     1455 Washington Avenue   Albany             NY       12206  42.68971   \n2                205 Wolf Rd   Albany             NY       12205  42.72410   \n3        62 New Scotland Ave   Albany             NY       12208  42.65157   \n4     1415 Washington Avenue   Albany             NY       12206  42.68873   \n...                      ...      ...            ...         ...       ...   \n1626        7 Executive Blvd  Yonkers             NY       10701  40.97275   \n1627         125 Tuckahoe Rd  Yonkers             NY       10710  40.95466   \n1628          7000 Mall Walk  Yonkers             NY       10704  40.92625   \n1629         555 Tuckahoe Rd  Yonkers             NY       10710  40.95375   \n1630   5 Executive Boulevard  Yonkers             NY       10701  40.97308   \n\n      longitude  star_rating  high_rate  low_rate  \n0     -73.81643          3.0   154.0272  124.0216  \n1     -73.82021          3.0   179.0100  134.0000  \n2     -73.79822          3.0   134.1700   84.1600  \n3     -73.77638          3.0   308.2807  228.4597  \n4     -73.81854          3.0   169.3900   89.3900  \n...         ...          ...        ...       ...  \n1626  -73.88075          3.0   269.3600  169.3600  \n1627  -73.86483          2.5   129.0000  119.0000  \n1628  -73.85438          3.0   249.3100  199.3100  \n1629  -73.84935          2.5   189.1900  134.1800  \n1630  -73.87955          3.0     0.0000    0.0000  \n\n[1631 rows x 11 columns]",
      "text/html": "<div>\n<style scoped>\n    .dataframe tbody tr th:only-of-type {\n        vertical-align: middle;\n    }\n\n    .dataframe tbody tr th {\n        vertical-align: top;\n    }\n\n    .dataframe thead th {\n        text-align: right;\n    }\n</style>\n<table border=\"1\" class=\"dataframe\">\n  <thead>\n    <tr style=\"text-align: right;\">\n      <th></th>\n      <th>ean_hotel_id</th>\n      <th>name</th>\n      <th>address1</th>\n      <th>city</th>\n      <th>state_province</th>\n      <th>postal_code</th>\n      <th>latitude</th>\n      <th>longitude</th>\n      <th>star_rating</th>\n      <th>high_rate</th>\n      <th>low_rate</th>\n    </tr>\n  </thead>\n  <tbody>\n    <tr>\n      <th>0</th>\n      <td>269955</td>\n      <td>Hilton Garden Inn Albany/SUNY Area</td>\n      <td>1389 Washington Ave</td>\n      <td>Albany</td>\n      <td>NY</td>\n      <td>12206</td>\n      <td>42.68751</td>\n      <td>-73.81643</td>\n      <td>3.0</td>\n      <td>154.0272</td>\n      <td>124.0216</td>\n    </tr>\n    <tr>\n      <th>1</th>\n      <td>113431</td>\n      <td>Courtyard by Marriott Albany Thruway</td>\n      <td>1455 Washington Avenue</td>\n      <td>Albany</td>\n      <td>NY</td>\n      <td>12206</td>\n      <td>42.68971</td>\n      <td>-73.82021</td>\n      <td>3.0</td>\n      <td>179.0100</td>\n      <td>134.0000</td>\n    </tr>\n    <tr>\n      <th>2</th>\n      <td>108151</td>\n      <td>Radisson Hotel Albany</td>\n      <td>205 Wolf Rd</td>\n      <td>Albany</td>\n      <td>NY</td>\n      <td>12205</td>\n      <td>42.72410</td>\n      <td>-73.79822</td>\n      <td>3.0</td>\n      <td>134.1700</td>\n      <td>84.1600</td>\n    </tr>\n    <tr>\n      <th>3</th>\n      <td>254756</td>\n      <td>Hilton Garden Inn Albany Medical Center</td>\n      <td>62 New Scotland Ave</td>\n      <td>Albany</td>\n      <td>NY</td>\n      <td>12208</td>\n      <td>42.65157</td>\n      <td>-73.77638</td>\n      <td>3.0</td>\n      <td>308.2807</td>\n      <td>228.4597</td>\n    </tr>\n    <tr>\n      <th>4</th>\n      <td>198232</td>\n      <td>CrestHill Suites SUNY University Albany</td>\n      <td>1415 Washington Avenue</td>\n      <td>Albany</td>\n      <td>NY</td>\n      <td>12206</td>\n      <td>42.68873</td>\n      <td>-73.81854</td>\n      <td>3.0</td>\n      <td>169.3900</td>\n      <td>89.3900</td>\n    </tr>\n    <tr>\n      <th>...</th>\n      <td>...</td>\n      <td>...</td>\n      <td>...</td>\n      <td>...</td>\n      <td>...</td>\n      <td>...</td>\n      <td>...</td>\n      <td>...</td>\n      <td>...</td>\n      <td>...</td>\n      <td>...</td>\n    </tr>\n    <tr>\n      <th>1626</th>\n      <td>324259</td>\n      <td>Residence Inn Yonkers Westchester County</td>\n      <td>7 Executive Blvd</td>\n      <td>Yonkers</td>\n      <td>NY</td>\n      <td>10701</td>\n      <td>40.97275</td>\n      <td>-73.88075</td>\n      <td>3.0</td>\n      <td>269.3600</td>\n      <td>169.3600</td>\n    </tr>\n    <tr>\n      <th>1627</th>\n      <td>107949</td>\n      <td>Ramada Inn Yonkers</td>\n      <td>125 Tuckahoe Rd</td>\n      <td>Yonkers</td>\n      <td>NY</td>\n      <td>10710</td>\n      <td>40.95466</td>\n      <td>-73.86483</td>\n      <td>2.5</td>\n      <td>129.0000</td>\n      <td>119.0000</td>\n    </tr>\n    <tr>\n      <th>1628</th>\n      <td>509723</td>\n      <td>Hyatt Place New York/Yonkers</td>\n      <td>7000 Mall Walk</td>\n      <td>Yonkers</td>\n      <td>NY</td>\n      <td>10704</td>\n      <td>40.92625</td>\n      <td>-73.85438</td>\n      <td>3.0</td>\n      <td>249.3100</td>\n      <td>199.3100</td>\n    </tr>\n    <tr>\n      <th>1629</th>\n      <td>621870</td>\n      <td>Hampton Inn &amp; Suites Yonkers - Westchester</td>\n      <td>555 Tuckahoe Rd</td>\n      <td>Yonkers</td>\n      <td>NY</td>\n      <td>10710</td>\n      <td>40.95375</td>\n      <td>-73.84935</td>\n      <td>2.5</td>\n      <td>189.1900</td>\n      <td>134.1800</td>\n    </tr>\n    <tr>\n      <th>1630</th>\n      <td>683329</td>\n      <td>Courtyard by Marriott Yonkers Westchester County</td>\n      <td>5 Executive Boulevard</td>\n      <td>Yonkers</td>\n      <td>NY</td>\n      <td>10701</td>\n      <td>40.97308</td>\n      <td>-73.87955</td>\n      <td>3.0</td>\n      <td>0.0000</td>\n      <td>0.0000</td>\n    </tr>\n  </tbody>\n</table>\n<p>1631 rows × 11 columns</p>\n</div>"
     },
     "execution_count": 1,
     "metadata": {},
     "output_type": "execute_result"
    }
   ],
   "source": [
    "import pandas as pd\n",
    "import numpy as np\n",
    "hotel_df = pd.read_csv('D:/專案/pycon2017-optimizing-pandas-master/new_york_hotels.csv')\n",
    "hotel_df"
   ]
  },
  {
   "cell_type": "code",
   "execution_count": 2,
   "outputs": [],
   "source": [
    "def haversine(lat1,lon1,lat2,lon2):\n",
    "    MILES = 3959\n",
    "    lat1, lon1, lat2 , lon2 = map(np.deg2rad,[lat1,lon1,lat2,lon2])\n",
    "    dlat = lat2-lat1\n",
    "    dlon = lon2-lon1\n",
    "    a = np.sin(dlat/2)**2 + np.cos(lat1) * np.cos(lat2) * np.sin(dlon/2)**2\n",
    "    c = 2 * np.arcsin(np.sqrt(a))\n",
    "    total_miles = MILES *c\n",
    "    return total_miles"
   ],
   "metadata": {
    "collapsed": false,
    "pycharm": {
     "name": "#%%\n"
    }
   }
  },
  {
   "cell_type": "code",
   "execution_count": 3,
   "outputs": [
    {
     "name": "stdout",
     "output_type": "stream",
     "text": [
      "latitude    42.6875\n",
      "Name: 0, dtype: object\n"
     ]
    }
   ],
   "source": [
    "len(hotel_df)\n",
    "print(hotel_df.loc[0,['latitude']])"
   ],
   "metadata": {
    "collapsed": false,
    "pycharm": {
     "name": "#%%\n"
    }
   }
  },
  {
   "cell_type": "code",
   "execution_count": 4,
   "outputs": [],
   "source": [
    "#crude loop\n",
    "def haversine_looping(df):\n",
    "    distance_list = []\n",
    "    for i in range(0,len(df)):\n",
    "        d = haversine(40.671, -73.985 , df.loc[i,['latitude']].astype(float), df.loc[i,['longitude']].astype(float))\n",
    "        distance_list.append(d)\n",
    "    return distance_list"
   ],
   "metadata": {
    "collapsed": false,
    "pycharm": {
     "name": "#%%\n"
    }
   }
  },
  {
   "cell_type": "code",
   "execution_count": 5,
   "outputs": [
    {
     "name": "stdout",
     "output_type": "stream",
     "text": [
      "6.52 s ± 149 ms per loop (mean ± std. dev. of 7 runs, 1 loop each)\n"
     ]
    }
   ],
   "source": [
    "%%timeit\n",
    "hotel_df['distance'] = haversine_looping(hotel_df)"
   ],
   "metadata": {
    "collapsed": false,
    "pycharm": {
     "name": "#%%\n"
    }
   }
  },
  {
   "cell_type": "code",
   "execution_count": 6,
   "outputs": [
    {
     "name": "stdout",
     "output_type": "stream",
     "text": [
      "212 ms ± 43.7 ms per loop (mean ± std. dev. of 7 runs, 1 loop each)\n"
     ]
    }
   ],
   "source": [
    "%%timeit\n",
    "haversine_series = []\n",
    "for index,row in hotel_df.iterrows():\n",
    "        haversine_series.append(haversine(40.671, -73.985 , row['latitude'], row['longitude']))\n",
    "hotel_df['distance'] = haversine_series"
   ],
   "metadata": {
    "collapsed": false,
    "pycharm": {
     "name": "#%%\n"
    }
   }
  },
  {
   "cell_type": "code",
   "execution_count": 7,
   "outputs": [
    {
     "name": "stdout",
     "output_type": "stream",
     "text": [
      "51.2 ms ± 3.93 ms per loop (mean ± std. dev. of 7 runs, 10 loops each)\n"
     ]
    }
   ],
   "source": [
    "%%timeit\n",
    "hotel_df['distance'] = hotel_df.apply(lambda row: haversine(40.671, -73.985 , row['latitude'], row['longitude']),axis=1)"
   ],
   "metadata": {
    "collapsed": false,
    "pycharm": {
     "name": "#%%\n"
    }
   }
  },
  {
   "cell_type": "code",
   "execution_count": 8,
   "outputs": [
    {
     "name": "stdout",
     "output_type": "stream",
     "text": [
      "2.55 ms ± 355 µs per loop (mean ± std. dev. of 7 runs, 100 loops each)\n"
     ]
    }
   ],
   "source": [
    "%%timeit\n",
    "hotel_df['distance'] = haversine(40.671, -73.985 , hotel_df['latitude'], hotel_df['longitude'])"
   ],
   "metadata": {
    "collapsed": false,
    "pycharm": {
     "name": "#%%\n"
    }
   }
  },
  {
   "cell_type": "code",
   "execution_count": 9,
   "outputs": [
    {
     "name": "stdout",
     "output_type": "stream",
     "text": [
      "243 µs ± 54.5 µs per loop (mean ± std. dev. of 7 runs, 1000 loops each)\n"
     ]
    }
   ],
   "source": [
    "%%timeit\n",
    "hotel_df['distance'] = haversine(40.671, -73.985 , hotel_df['latitude'].values, hotel_df['longitude'].values)"
   ],
   "metadata": {
    "collapsed": false,
    "pycharm": {
     "name": "#%%\n"
    }
   }
  }
 ],
 "metadata": {
  "kernelspec": {
   "name": "leakage",
   "language": "python",
   "display_name": "leakage"
  },
  "language_info": {
   "codemirror_mode": {
    "name": "ipython",
    "version": 2
   },
   "file_extension": ".py",
   "mimetype": "text/x-python",
   "name": "python",
   "nbconvert_exporter": "python",
   "pygments_lexer": "ipython2",
   "version": "2.7.6"
  }
 },
 "nbformat": 4,
 "nbformat_minor": 0
}